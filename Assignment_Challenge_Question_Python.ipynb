{
  "nbformat": 4,
  "nbformat_minor": 0,
  "metadata": {
    "colab": {
      "provenance": [],
      "authorship_tag": "ABX9TyMBwKkP4pu+eEwndR2B+4kC",
      "include_colab_link": true
    },
    "kernelspec": {
      "name": "python3",
      "display_name": "Python 3"
    },
    "language_info": {
      "name": "python"
    }
  },
  "cells": [
    {
      "cell_type": "markdown",
      "metadata": {
        "id": "view-in-github",
        "colab_type": "text"
      },
      "source": [
        "<a href=\"https://colab.research.google.com/github/MiscMissLA/Mini-Project-02-Challenge-Question/blob/main/Assignment_Challenge_Question_Python.ipynb\" target=\"_parent\"><img src=\"https://colab.research.google.com/assets/colab-badge.svg\" alt=\"Open In Colab\"/></a>"
      ]
    },
    {
      "cell_type": "markdown",
      "source": [
        "Challenge Question Solutions\n"
      ],
      "metadata": {
        "id": "7F-ArwEifRMg"
      }
    },
    {
      "cell_type": "code",
      "execution_count": 1,
      "metadata": {
        "id": "4huhWw4MeipZ",
        "colab": {
          "base_uri": "https://localhost:8080/"
        },
        "outputId": "18afb6bb-8227-4a90-83db-6a27e3a27b7b"
      },
      "outputs": [
        {
          "output_type": "stream",
          "name": "stdout",
          "text": [
            "['Ram', 1, 'Shyam', 2, 'Aman', 3]\n",
            "['1', '2', '3', 'Aman', 'Ram', 'Shyam']\n"
          ]
        }
      ],
      "source": [
        "# Approach 1\n",
        "L = [\"Ram\", 1, \"Shyam\", 2, \"Aman\", 3]\n",
        "print(L)\n",
        "L1 = [str(i) for i in L]\n",
        "L1.sort()\n",
        "print(L1)"
      ]
    },
    {
      "cell_type": "code",
      "source": [
        "# Approach 2\n",
        "L = [\"Ram\", 1, \"Shyam\", 2, \"Aman\", 3]\n",
        "L2 = []\n",
        "L3 = []\n",
        "for i in L:\n",
        "  try:\n",
        "    L2.append(int(i)) #int(string) will give error so we use try except block to sort the elements in two diffenent list\n",
        "  except:\n",
        "    L3.append(i)\n",
        "\n",
        "L2.sort()\n",
        "L3.sort()\n",
        "print(L2)\n",
        "print(L3)\n",
        "L4 = L2 + L3\n",
        "print(L4)"
      ],
      "metadata": {
        "colab": {
          "base_uri": "https://localhost:8080/"
        },
        "id": "YI9dt-vIfL5P",
        "outputId": "b016c0bc-816d-4fbb-c765-7edc754b4b68"
      },
      "execution_count": 2,
      "outputs": [
        {
          "output_type": "stream",
          "name": "stdout",
          "text": [
            "[1, 2, 3]\n",
            "['Aman', 'Ram', 'Shyam']\n",
            "[1, 2, 3, 'Aman', 'Ram', 'Shyam']\n"
          ]
        }
      ]
    }
  ]
}